{
 "cells": [
  {
   "cell_type": "code",
   "execution_count": 28,
   "metadata": {},
   "outputs": [
    {
     "name": "stdout",
     "output_type": "stream",
     "text": [
      "Quantized XML saved to: quantized_haarcascade_frontalface_alt.xml\n"
     ]
    }
   ],
   "source": [
    "import xml.etree.ElementTree as ET\n",
    "import re\n",
    "\n",
    "# Load the XML file\n",
    "xml_file_path = 'haarcascade_frontalface_alt.xml'\n",
    "tree = ET.parse(xml_file_path)\n",
    "root = tree.getroot()\n",
    "\n",
    "# Define the original float range and target integer range\n",
    "FLOAT_MIN = -1.0  \n",
    "FLOAT_MAX = 106.0   \n",
    "TARGET_MIN = 0\n",
    "TARGET_MAX = 65536\n",
    "\n",
    "# Function to quantize a float to the 0-255 range\n",
    "def quantize_float(value):\n",
    "    float_value = float(value)\n",
    "    # Scale float_value to the TARGET_MIN - TARGET_MAX range\n",
    "    scaled_value = (float_value - FLOAT_MIN) / (FLOAT_MAX - FLOAT_MIN) * (TARGET_MAX - TARGET_MIN) + TARGET_MIN\n",
    "    quantized_value = round(scaled_value)  # Round to the nearest integer\n",
    "    return str(int(quantized_value))\n",
    "\n",
    "# Function to process each text or attribute for float values\n",
    "def process_text_for_floats(text):\n",
    "    return ' '.join(\n",
    "        quantize_float(num) if re.match(r\"-?\\d+\\.\\d+(e[+-]?\\d+)?\", num) else num\n",
    "        for num in text.split()\n",
    "    )\n",
    "\n",
    "# Traverse all elements to apply quantization to floats in both text and attributes\n",
    "for elem in root.iter():\n",
    "    # Quantize floats in element text\n",
    "    if elem.text and any(re.match(r\"-?\\d+\\.\\d+(e[+-]?\\d+)?\", num) for num in elem.text.split()):\n",
    "        elem.text = process_text_for_floats(elem.text)\n",
    "    \n",
    "    # Quantize floats in element attributes\n",
    "    for attr, value in elem.attrib.items():\n",
    "        if re.match(r\"-?\\d+\\.\\d+(e[+-]?\\d+)?\", value):\n",
    "            elem.attrib[attr] = quantize_float(value)\n",
    "\n",
    "# Save the modified XML\n",
    "output_file_path = 'quantized_haarcascade_frontalface_alt.xml'\n",
    "tree.write(output_file_path)\n",
    "\n",
    "print(f\"Quantized XML saved to: {output_file_path}\")\n"
   ]
  },
  {
   "cell_type": "code",
   "execution_count": 29,
   "metadata": {},
   "outputs": [
    {
     "name": "stdout",
     "output_type": "stream",
     "text": [
      "Dequantized XML saved to: dequantized_haarcascade_frontalface_alt.xml\n"
     ]
    }
   ],
   "source": [
    "import xml.etree.ElementTree as ET\n",
    "import re\n",
    "\n",
    "# Load the XML file with quantized integers\n",
    "xml_file_path = 'quantized_haarcascade_frontalface_alt.xml'\n",
    "tree = ET.parse(xml_file_path)\n",
    "root = tree.getroot()\n",
    "\n",
    "# Define the original float range and target integer range\n",
    "FLOAT_MIN = -1.0  # Minimum expected float value\n",
    "FLOAT_MAX = 106.0   # Maximum expected float value\n",
    "TARGET_MIN = 0\n",
    "TARGET_MAX = 65536\n",
    "\n",
    "# Function to convert quantized integer back to float\n",
    "def dequantize_int(value):\n",
    "    int_value = int(value)\n",
    "    # Reverse the scaling from TARGET_MIN - TARGET_MAX back to FLOAT_MIN - FLOAT_MAX\n",
    "    original_float = (int_value - TARGET_MIN) / (TARGET_MAX - TARGET_MIN) * (FLOAT_MAX - FLOAT_MIN) + FLOAT_MIN\n",
    "    return f\"{original_float:.8f}\"  # Format to maintain float precision\n",
    "\n",
    "# Function to process each text or attribute for integer values\n",
    "def process_text_for_integers(text):\n",
    "    return ' '.join(\n",
    "        dequantize_int(num) if num.isdigit() else num\n",
    "        for num in text.split()\n",
    "    )\n",
    "\n",
    "# Traverse all elements to apply dequantization to integers in both text and attributes\n",
    "for elem in root.iter():\n",
    "    # Dequantize integers in element text\n",
    "    if elem.text and all(num.isdigit() for num in elem.text.split()):\n",
    "        elem.text = process_text_for_integers(elem.text)\n",
    "    \n",
    "    # Dequantize integers in element attributes\n",
    "    for attr, value in elem.attrib.items():\n",
    "        if value.isdigit():\n",
    "            elem.attrib[attr] = dequantize_int(value)\n",
    "\n",
    "# Save the modified XML\n",
    "output_file_path = 'dequantized_haarcascade_frontalface_alt.xml'\n",
    "tree.write(output_file_path)\n",
    "\n",
    "print(f\"Dequantized XML saved to: {output_file_path}\")\n"
   ]
  },
  {
   "cell_type": "code",
   "execution_count": null,
   "metadata": {},
   "outputs": [],
   "source": []
  }
 ],
 "metadata": {
  "kernelspec": {
   "display_name": "Python 3",
   "language": "python",
   "name": "python3"
  },
  "language_info": {
   "codemirror_mode": {
    "name": "ipython",
    "version": 3
   },
   "file_extension": ".py",
   "mimetype": "text/x-python",
   "name": "python",
   "nbconvert_exporter": "python",
   "pygments_lexer": "ipython3",
   "version": "3.8.10"
  },
  "orig_nbformat": 4
 },
 "nbformat": 4,
 "nbformat_minor": 2
}
