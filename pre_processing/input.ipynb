{
 "cells": [
  {
   "cell_type": "code",
   "execution_count": 1,
   "metadata": {},
   "outputs": [
    {
     "name": "stdout",
     "output_type": "stream",
     "text": [
      "Collecting opencv-python\n",
      "  Downloading opencv_python-4.10.0.84-cp37-abi3-manylinux_2_17_x86_64.manylinux2014_x86_64.whl (62.5 MB)\n",
      "\u001b[K     |████████████████████████████████| 62.5 MB 21 kB/s  eta 0:00:01\n",
      "\u001b[?25hRequirement already satisfied: numpy>=1.17.0; python_version >= \"3.7\" in /home/nikhil/.local/lib/python3.8/site-packages (from opencv-python) (1.24.3)\n",
      "Installing collected packages: opencv-python\n",
      "Successfully installed opencv-python-4.10.0.84\n",
      "Note: you may need to restart the kernel to use updated packages.\n"
     ]
    }
   ],
   "source": [
    "pip install opencv-python\n"
   ]
  },
  {
   "cell_type": "code",
   "execution_count": 14,
   "metadata": {},
   "outputs": [
    {
     "name": "stdout",
     "output_type": "stream",
     "text": [
      "hi\n",
      "esdrgr\n"
     ]
    }
   ],
   "source": [
    "import cv2\n",
    "import numpy as np\n",
    "\n",
    "def save_to_coe_file(integral_image, file_path):\n",
    "    with open(file_path, 'w') as coe_file:\n",
    "        # Write the COE file header\n",
    "        coe_file.write(\"memory_initialization_radix=10;\\n\")\n",
    "        coe_file.write(\"memory_initialization_vector=\\n\")\n",
    "        print(\"esdrgr\")\n",
    "        # Write each pixel value line by line\n",
    "        for y in range(integral_image.shape[0]):\n",
    "            for x in range(integral_image.shape[1]):\n",
    "                coe_file.write(f\"{int(integral_image[y, x])}, \")\n",
    "        \n",
    "        # Replace the last comma with a semicolon to end the vector\n",
    "        coe_file.seek(coe_file.tell() - 2)\n",
    "        coe_file.write(\";\")\n",
    "\n",
    "def main(image_path, output_coe_path):\n",
    "    # Load the image in grayscale\n",
    "    img = cv2.imread(image_path, cv2.IMREAD_GRAYSCALE)\n",
    "    \n",
    "    # Resize the image to 20x20\n",
    "    img_resized = cv2.resize(img, (20, 20))\n",
    "    # Compute the integral image\n",
    "    integral_image = cv2.integral(img_resized)[1:, 1:]  # Remove extra row and column\n",
    "\n",
    "    # Save integral image to .coe file\n",
    "    save_to_coe_file(integral_image, output_coe_path)\n",
    "\n",
    "# Example usage\n",
    "main(\"test_shape.jpg\", \"dump.coe\")\n"
   ]
  },
  {
   "cell_type": "code",
   "execution_count": null,
   "metadata": {},
   "outputs": [],
   "source": []
  }
 ],
 "metadata": {
  "kernelspec": {
   "display_name": "Python 3",
   "language": "python",
   "name": "python3"
  },
  "language_info": {
   "codemirror_mode": {
    "name": "ipython",
    "version": 3
   },
   "file_extension": ".py",
   "mimetype": "text/x-python",
   "name": "python",
   "nbconvert_exporter": "python",
   "pygments_lexer": "ipython3",
   "version": "3.8.10"
  }
 },
 "nbformat": 4,
 "nbformat_minor": 2
}
